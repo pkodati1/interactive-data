{
 "cells": [
  {
   "cell_type": "code",
   "execution_count": 1,
   "id": "318f2493",
   "metadata": {},
   "outputs": [],
   "source": [
    "#importing pandas\n",
    "import pandas as pd"
   ]
  },
  {
   "cell_type": "code",
   "execution_count": 2,
   "id": "3344cbba",
   "metadata": {},
   "outputs": [],
   "source": [
    "# Create a DataFrame with three columns and three rows\n",
    "data=[[1,'Anaconda','6.7.2'],\n",
    "      [2,'Git','2.46'],\n",
    "      [3,'Python3','3.12.5']]"
   ]
  },
  {
   "cell_type": "code",
   "execution_count": 3,
   "id": "0bf0ae39",
   "metadata": {},
   "outputs": [],
   "source": [
    "\n",
    "#data to DataFrame\n",
    "df=pd.DataFrame(data, columns=['Serial no','Software','Version'])"
   ]
  },
  {
   "cell_type": "code",
   "execution_count": 4,
   "id": "428b7ad2",
   "metadata": {},
   "outputs": [
    {
     "data": {
      "text/html": [
       "<div>\n",
       "<style scoped>\n",
       "    .dataframe tbody tr th:only-of-type {\n",
       "        vertical-align: middle;\n",
       "    }\n",
       "\n",
       "    .dataframe tbody tr th {\n",
       "        vertical-align: top;\n",
       "    }\n",
       "\n",
       "    .dataframe thead th {\n",
       "        text-align: right;\n",
       "    }\n",
       "</style>\n",
       "<table border=\"1\" class=\"dataframe\">\n",
       "  <thead>\n",
       "    <tr style=\"text-align: right;\">\n",
       "      <th></th>\n",
       "      <th>Serial no</th>\n",
       "      <th>Software</th>\n",
       "      <th>Version</th>\n",
       "    </tr>\n",
       "  </thead>\n",
       "  <tbody>\n",
       "    <tr>\n",
       "      <th>0</th>\n",
       "      <td>1</td>\n",
       "      <td>Anaconda</td>\n",
       "      <td>6.7.2</td>\n",
       "    </tr>\n",
       "    <tr>\n",
       "      <th>1</th>\n",
       "      <td>2</td>\n",
       "      <td>Git</td>\n",
       "      <td>2.46</td>\n",
       "    </tr>\n",
       "    <tr>\n",
       "      <th>2</th>\n",
       "      <td>3</td>\n",
       "      <td>Python3</td>\n",
       "      <td>3.12.5</td>\n",
       "    </tr>\n",
       "  </tbody>\n",
       "</table>\n",
       "</div>"
      ],
      "text/plain": [
       "   Serial no  Software Version\n",
       "0          1  Anaconda   6.7.2\n",
       "1          2       Git    2.46\n",
       "2          3   Python3  3.12.5"
      ]
     },
     "execution_count": 4,
     "metadata": {},
     "output_type": "execute_result"
    }
   ],
   "source": [
    "# head of the DataFrame\n",
    "df.head()"
   ]
  },
  {
   "cell_type": "code",
   "execution_count": 5,
   "id": "e11e3f1d",
   "metadata": {},
   "outputs": [
    {
     "data": {
      "text/plain": [
       "RangeIndex(start=0, stop=3, step=1)"
      ]
     },
     "execution_count": 5,
     "metadata": {},
     "output_type": "execute_result"
    }
   ],
   "source": [
    "# Index of the DataFrame\n",
    "df.index"
   ]
  },
  {
   "cell_type": "code",
   "execution_count": 6,
   "id": "c397dd82",
   "metadata": {},
   "outputs": [
    {
     "data": {
      "text/plain": [
       "0    1\n",
       "1    2\n",
       "2    3\n",
       "Name: Serial no, dtype: int64"
      ]
     },
     "execution_count": 6,
     "metadata": {},
     "output_type": "execute_result"
    }
   ],
   "source": [
    "# The first column of the DataFrame\n",
    "df.iloc[:,0]"
   ]
  },
  {
   "cell_type": "code",
   "execution_count": 7,
   "id": "f4f3eb65",
   "metadata": {},
   "outputs": [
    {
     "data": {
      "text/plain": [
       "Serial no           1\n",
       "Software     Anaconda\n",
       "Version         6.7.2\n",
       "Name: 0, dtype: object"
      ]
     },
     "execution_count": 7,
     "metadata": {},
     "output_type": "execute_result"
    }
   ],
   "source": [
    "# The first row of the DataFrame\n",
    "df.loc[0]"
   ]
  },
  {
   "cell_type": "code",
   "execution_count": 8,
   "id": "523341a6",
   "metadata": {},
   "outputs": [],
   "source": [
    "\n",
    "# Create a DataFrame with three columns and three rows\n",
    "data={'Serial no':[1,2,3],\n",
    "      'Software':['Anaconda','Git','Python3'],\n",
    "      'Version':['6.7.2','2.46','3.12.5']}"
   ]
  },
  {
   "cell_type": "code",
   "execution_count": 9,
   "id": "301ff485",
   "metadata": {},
   "outputs": [],
   "source": [
    "#Converting data to DataFrame\n",
    "df=pd.DataFrame(data)"
   ]
  },
  {
   "cell_type": "code",
   "execution_count": 10,
   "id": "2fca6b96",
   "metadata": {},
   "outputs": [
    {
     "data": {
      "text/html": [
       "<div>\n",
       "<style scoped>\n",
       "    .dataframe tbody tr th:only-of-type {\n",
       "        vertical-align: middle;\n",
       "    }\n",
       "\n",
       "    .dataframe tbody tr th {\n",
       "        vertical-align: top;\n",
       "    }\n",
       "\n",
       "    .dataframe thead th {\n",
       "        text-align: right;\n",
       "    }\n",
       "</style>\n",
       "<table border=\"1\" class=\"dataframe\">\n",
       "  <thead>\n",
       "    <tr style=\"text-align: right;\">\n",
       "      <th></th>\n",
       "      <th>Serial no</th>\n",
       "      <th>Software</th>\n",
       "      <th>Version</th>\n",
       "    </tr>\n",
       "  </thead>\n",
       "  <tbody>\n",
       "    <tr>\n",
       "      <th>0</th>\n",
       "      <td>1</td>\n",
       "      <td>Anaconda</td>\n",
       "      <td>6.7.2</td>\n",
       "    </tr>\n",
       "    <tr>\n",
       "      <th>1</th>\n",
       "      <td>2</td>\n",
       "      <td>Git</td>\n",
       "      <td>2.46</td>\n",
       "    </tr>\n",
       "    <tr>\n",
       "      <th>2</th>\n",
       "      <td>3</td>\n",
       "      <td>Python3</td>\n",
       "      <td>3.12.5</td>\n",
       "    </tr>\n",
       "  </tbody>\n",
       "</table>\n",
       "</div>"
      ],
      "text/plain": [
       "   Serial no  Software Version\n",
       "0          1  Anaconda   6.7.2\n",
       "1          2       Git    2.46\n",
       "2          3   Python3  3.12.5"
      ]
     },
     "execution_count": 10,
     "metadata": {},
     "output_type": "execute_result"
    }
   ],
   "source": [
    "df.head()"
   ]
  },
  {
   "cell_type": "code",
   "execution_count": 11,
   "id": "36f9b2b6",
   "metadata": {},
   "outputs": [],
   "source": [
    "# Write the DataFrame to a new CSV file\n",
    "df.to_csv('software.csv', index=False)"
   ]
  },
  {
   "cell_type": "markdown",
   "id": "f3bd7dad",
   "metadata": {},
   "source": [
    "**Question**:<br>\n",
    "What does the \"write/render/evaluate\" loop provide for creators of interactive data visualizations?<br>\n",
    "**Answer**:<br>\n",
    "For those creating interactive data visualizations, the \"write/render/evaluate\" loop is crucial since it promotes a fluid and effective workflow. Through this iterative process, developers may see the outcomes of their work nearly instantly and swiftly create code that defines how data is presented. This loop promotes experimentation and creativity by enabling quick tweaks and testing of various visual methods. It also enables developers to improve their designs in response to real-time input. As a result, it improves the visuals' overall impact and quality, which facilitates the successful communication of complicated data insights.<br>\n",
    "**Question**: <br>\n",
    "Why are dynamic, interactive data visualizations useful when communicating data?<br>\n",
    "**Answer**:<br>\n",
    "1. User Engagement: They give users the opportunity to actively investigate the data, letting them work with visual components and find insights related to particular queries or areas of interest.\n",
    "\n",
    "2. Multiple Perspectives: the Interactive visualizations can display multiple perspectives of the same dataset at once, meeting the demands of diverse audiences and improving comprehension of complicated material.\n",
    "\n",
    "3. Finding Patterns: Through user interaction with multidimensional datasets, these visualizations can reveal underlying trends and patterns that would not be seen in static representations, improving the accessibility and insightfulness of the data. <br>\n",
    "\n",
    "**Question**: <br>\n",
    "Do you agree with Murray's claim that open-source tools that avoid proprietary software are best for publishing data visualization? In a few sentences, explain why you do or do not agree.<br>\n",
    "**Answer**:<br>\n",
    "Murray asserts that the best tools for releasing data visualizations are always open-source ones that stay away from commercial software, but I don't entirely get into that. Although commercial software can offer advanced functionality, user-friendly interfaces, and dedicated support that can improve the development process, open-source tools still offer accessibility and flexibility. Proprietary tools sometimes have greater performance optimization and better software integration, which is important for complicated visualizations. Consequently, the decision between proprietary and open-source tools should be based on the particular requirements of the project as well as the users' level of expertise.<br>\n",
    "\n"
   ]
  },
  {
   "cell_type": "code",
   "execution_count": null,
   "id": "48e09eb8",
   "metadata": {},
   "outputs": [],
   "source": []
  }
 ],
 "metadata": {
  "kernelspec": {
   "display_name": "Python 3 (ipykernel)",
   "language": "python",
   "name": "python3"
  },
  "language_info": {
   "codemirror_mode": {
    "name": "ipython",
    "version": 3
   },
   "file_extension": ".py",
   "mimetype": "text/x-python",
   "name": "python",
   "nbconvert_exporter": "python",
   "pygments_lexer": "ipython3",
   "version": "3.10.13"
  }
 },
 "nbformat": 4,
 "nbformat_minor": 5
}
